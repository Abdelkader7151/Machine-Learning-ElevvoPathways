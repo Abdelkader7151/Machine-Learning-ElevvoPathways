{
  "cells": [
    {
      "cell_type": "markdown",
      "metadata": {},
      "source": [
        "# Task 2: Customer Segmentation\n",
        "\n",
        "This notebook implements customer segmentation using K-Means clustering on the Mall Customers dataset.\n",
        "\n",
        "- Load and explore the Mall Customers dataset\n",
        "- Perform data preprocessing and scaling\n",
        "- Apply Elbow Method and Silhouette Analysis for optimal cluster selection\n",
        "- Implement K-Means clustering\n",
        "- Visualize clusters and analyze customer segments\n",
        "- Bonus: DBSCAN clustering comparison\n",
        "- Generate business insights and recommendations\n",
        "\n",
        "> Dataset: Mall Customers with Annual Income and Spending Score features.\n"
      ]
    },
    {
      "cell_type": "code",
      "execution_count": null,
      "metadata": {},
      "outputs": [],
      "source": [
        "# Imports and setup\n",
        "import pandas as pd\n",
        "import numpy as np\n",
        "import matplotlib.pyplot as plt\n",
        "import seaborn as sns\n",
        "from sklearn.cluster import KMeans, DBSCAN\n",
        "from sklearn.preprocessing import StandardScaler\n",
        "from sklearn.metrics import silhouette_score\n",
        "import warnings\n",
        "warnings.filterwarnings('ignore')\n",
        "\n",
        "# Set style for better plots\n",
        "plt.style.use('default')\n",
        "sns.set_palette(\"husl\")\n"
      ]
    },
    {
      "cell_type": "code",
      "execution_count": null,
      "metadata": {},
      "outputs": [],
      "source": [
        "# Load dataset\n",
        "df = pd.read_csv('data/Mall_Customers.csv')\n",
        "print(f\"Dataset shape: {df.shape}\")\n",
        "print(f\"Columns: {df.columns.tolist()}\")\n",
        "df.head()\n"
      ]
    },
    {
      "cell_type": "code",
      "execution_count": null,
      "metadata": {},
      "outputs": [],
      "source": [
        "# Data preprocessing and feature selection\n",
        "income_cols = ['Annual Income (k$)', 'Annual_Income_(k$)', 'Annual_Income', 'AnnualIncome']\n",
        "spending_cols = ['Spending Score (1-100)', 'Spending_Score_(1-100)', 'Spending_Score', 'SpendingScore']\n",
        "\n",
        "income_col = next((col for col in income_cols if col in df.columns), None)\n",
        "spending_col = next((col for col in spending_cols if col in df.columns), None)\n",
        "\n",
        "print(f\"Using columns: {income_col}, {spending_col}\")\n",
        "X = df[[income_col, spending_col]].copy()\n",
        "\n",
        "# Feature scaling\n",
        "scaler = StandardScaler()\n",
        "X_scaled = scaler.fit_transform(X)\n",
        "print(\"Features scaled using StandardScaler\")\n"
      ]
    },
    {
      "cell_type": "code",
      "execution_count": null,
      "metadata": {},
      "outputs": [],
      "source": [
        "# Find optimal clusters and apply K-Means\n",
        "inertias = []\n",
        "silhouette_scores = []\n",
        "K_range = range(2, 11)\n",
        "\n",
        "for k in K_range:\n",
        "    kmeans = KMeans(n_clusters=k, random_state=42, n_init=10)\n",
        "    kmeans.fit(X_scaled)\n",
        "    inertias.append(kmeans.inertia_)\n",
        "    silhouette_scores.append(silhouette_score(X_scaled, kmeans.labels_))\n",
        "\n",
        "optimal_k = K_range[np.argmax(silhouette_scores)]\n",
        "print(f\"Optimal number of clusters: {optimal_k}\")\n",
        "\n",
        "# Apply final clustering\n",
        "kmeans_final = KMeans(n_clusters=optimal_k, random_state=42, n_init=10)\n",
        "cluster_labels = kmeans_final.fit_predict(X_scaled)\n",
        "df['Cluster'] = cluster_labels\n",
        "\n",
        "print(f\"Silhouette Score: {silhouette_score(X_scaled, cluster_labels):.3f}\")\n"
      ]
    },
    {
      "cell_type": "code",
      "execution_count": null,
      "metadata": {},
      "outputs": [],
      "source": [
        "# Visualize clusters\n",
        "plt.figure(figsize=(12, 5))\n",
        "\n",
        "# K-Means clusters\n",
        "plt.subplot(1, 2, 1)\n",
        "scatter1 = plt.scatter(X[income_col], X[spending_col], \n",
        "                      c=cluster_labels, cmap='viridis', alpha=0.7, s=50)\n",
        "centroids_original = scaler.inverse_transform(kmeans_final.cluster_centers_)\n",
        "plt.scatter(centroids_original[:, 0], centroids_original[:, 1],\n",
        "           c='red', marker='x', s=200, linewidths=3, label='Centroids')\n",
        "plt.title(f'K-Means Clustering (k={optimal_k})')\n",
        "plt.xlabel('Annual Income (k$)')\n",
        "plt.ylabel('Spending Score (1-100)')\n",
        "plt.legend()\n",
        "plt.colorbar(scatter1, label='Cluster')\n",
        "\n",
        "# DBSCAN comparison\n",
        "plt.subplot(1, 2, 2)\n",
        "dbscan = DBSCAN(eps=0.6, min_samples=5)\n",
        "dbscan_labels = dbscan.fit_predict(X_scaled)\n",
        "scatter2 = plt.scatter(X[income_col], X[spending_col], \n",
        "                      c=dbscan_labels, cmap='plasma', alpha=0.7, s=50)\n",
        "plt.title('DBSCAN Clustering')\n",
        "plt.xlabel('Annual Income (k$)')\n",
        "plt.ylabel('Spending Score (1-100)')\n",
        "plt.colorbar(scatter2, label='Cluster')\n",
        "\n",
        "plt.tight_layout()\n",
        "plt.show()\n",
        "\n",
        "print(\"Analysis complete! Check the visualizations and cluster characteristics.\")\n"
      ]
    }
  ],
  "metadata": {
    "language_info": {
      "name": "python"
    }
  },
  "nbformat": 4,
  "nbformat_minor": 2
}
